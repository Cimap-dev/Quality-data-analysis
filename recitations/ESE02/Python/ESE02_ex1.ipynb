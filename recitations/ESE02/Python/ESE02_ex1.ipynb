{
 "cells": [
  {
   "cell_type": "markdown",
   "metadata": {},
   "source": [
    "<h1 style=\"color:orange\">EXERCISE CLASS 2 - SPC for iid data </h1>"
   ]
  },
  {
   "cell_type": "markdown",
   "metadata": {},
   "source": [
    "### EXERCISE 1\n",
    "\n",
    "The gears in wind turbine gearboxes are essential for converting rotational energy from the turbine blades into electrical energy. Data in `gears_phase1.csv` represent measurements of the gear diameters. These diameters are sequentially sampled in groups of n = 5 from the manufacturing process and must meet a tolerance of 24 ± 1 mm to ensure reliable performance and durability.\n",
    "1. Assuming that the distribution of the gear diameters is unknown, design an Xbar-R chart to verify if the process is in control. For any out-of-control points detected in Phase I, assume that an assignable cause is found. Check if data contained in `gears_phase2.csv` is in control.\n",
    "2. Redesign the X-bar and R chart in order to achieve in both the charts an Average Run Length (ARL0) of 1000 (assuming that the normal approximation applies for both of them).\n",
    "3. Determine the operating characteristic curve (OC) for the X-bar chart (by using K=3 and expressing the shift of the mean in standard deviation units)\n",
    "4. Determine the corresponding ARL curve. \n",
    "5. Estimate the standard deviation through the statistic $R$ (consider original Phase I data).\n",
    "6. Design the confidence interval on the process mean that corresponds to the control limits computed in point 1 (consider original Phase I data).\n",
    "7. Verify if the process is in control by using an X-bar and S chart. For any out-of-control points detected in Phase I, assume that an assignable cause is found. Check if data contained in `gears_phase2.csv` is in control.\n",
    "8. Knowing that the gear diameter is distributed as a normal distribution with mean 24 mm and standard deviation 0.26 mm, design an Xbar and S chart. For any out-of-control points detected, assume that an assignable cause is found. Check if Phase II data is in control.\n",
    "\n"
   ]
  },
  {
   "cell_type": "markdown",
   "metadata": {},
   "source": [
    "### Point 1 - Xbar-R charts\n",
    "Assuming that the distribution of the gear diamters is unknown, design an Xbar-R chart to verify if the process is in control. For any out-of-control points detected in Phase I, assume that an assignable cause is found. Check if data contained in `gears_phase2.csv` is in control.\n",
    "\n"
   ]
  },
  {
   "cell_type": "code",
   "execution_count": null,
   "metadata": {},
   "outputs": [],
   "source": [
    "# Import the necessary libraries\n",
    "import numpy as np\n",
    "import matplotlib.pyplot as plt\n",
    "import pandas as pd\n",
    "from scipy import stats\n",
    "import qdatoolkit as qda\n",
    "\n",
    "# Import the dataset\n",
    "phase_1 = pd.read_csv('../Data/gears_phase1.csv')\n",
    "\n",
    "# Inspect the dataset\n",
    "phase_1.head()"
   ]
  },
  {
   "cell_type": "markdown",
   "metadata": {},
   "source": [
    "> Inspect the data by plotting the individual datapoints."
   ]
  },
  {
   "cell_type": "code",
   "execution_count": null,
   "metadata": {},
   "outputs": [],
   "source": [
    "# Make a scatter plot of all the columns against the index\n",
    "plt.plot(phase_1['x1'], linestyle='none', marker='o', label = 'x1')\n",
    "plt.plot(phase_1['x2'], linestyle='none', marker='o', label = 'x2')\n",
    "plt.plot(phase_1['x3'], linestyle='none', marker='o', label = 'x3')\n",
    "plt.plot(phase_1['x4'], linestyle='none', marker='o', label = 'x4')\n",
    "plt.plot(phase_1['x5'], linestyle='none', marker='o', label = 'x5')\n",
    "# place the legend outside the plot\n",
    "plt.legend(bbox_to_anchor=(1.05, 1), loc=2, borderaxespad=0.)\n",
    "plt.show()"
   ]
  },
  {
   "cell_type": "markdown",
   "metadata": {},
   "source": [
    "> Doesn't look like strange patterns or outliers are present except for one extreme value."
   ]
  },
  {
   "cell_type": "markdown",
   "metadata": {},
   "source": [
    "> Verify the assumption of normality, assuming all the data are from the same population."
   ]
  },
  {
   "cell_type": "code",
   "execution_count": null,
   "metadata": {},
   "outputs": [],
   "source": [
    "# Stack the data into a single column\n",
    "phase_1_stack = phase_1.stack()\n",
    "\n",
    "# We can use the qdatoolkit module to verify the normality of the data\n",
    "sw_statistic, sw_pvalue = qda.Assumptions(phase_1_stack).normality()\n",
    "\n",
    "# Plot the histogram of the data\n",
    "phase_1_stack.hist(bins=10)\n"
   ]
  },
  {
   "cell_type": "markdown",
   "metadata": {},
   "source": [
    "> With a significance level of 5% (0.05) we fail to reject the null hypothesis of the Shapiro-Wilk test. Note that one extreme value is responsible for borderline normality. "
   ]
  },
  {
   "cell_type": "markdown",
   "metadata": {},
   "source": [
    "> We might also check randomness, but we must know within-sample order!"
   ]
  },
  {
   "cell_type": "markdown",
   "metadata": {},
   "source": [
    "> Let's design the Xbar-R chart.\n",
    ">\n",
    "> Let's compute the mean and the range for each sample. \n",
    "> \n",
    "> *Note: we need to apply the mean and range functions to each row of the data frame.*"
   ]
  },
  {
   "cell_type": "code",
   "execution_count": null,
   "metadata": {},
   "outputs": [],
   "source": [
    "# Make a copy of the data\n",
    "XR = phase_1.copy()\n",
    "# Add a column with the mean of the rows\n",
    "XR['sample_mean'] = XR.mean(axis=1)\n",
    "# Add a column with the range of the rows\n",
    "XR['sample_range'] = XR.max(axis=1) - XR.min(axis=1)\n",
    "\n",
    "# Inspect the dataset\n",
    "XR.head()"
   ]
  },
  {
   "cell_type": "markdown",
   "metadata": {},
   "source": [
    "> Now compute the grand mean and the mean of the ranges."
   ]
  },
  {
   "cell_type": "code",
   "execution_count": null,
   "metadata": {},
   "outputs": [],
   "source": [
    "Xbar_mean = XR['sample_mean'].mean()\n",
    "R_mean = XR['sample_range'].mean()\n",
    "\n",
    "print('Mean of the sample mean: %.3f' % Xbar_mean)\n",
    "print('Mean of the sample range: %.3f' % R_mean)"
   ]
  },
  {
   "cell_type": "markdown",
   "metadata": {},
   "source": [
    "> Since there is no constraint on the choice of Type I error $\\alpha$, we can set K = 3 ($\\alpha$ = 0.0027)\n",
    ">\n",
    "> Remember the formulas for the control limits for unknown parameters.\n",
    ">\n",
    "> **$\\mathbf{\\bar{X}}$ chart**:\n",
    "> - $UCL = \\overline{\\overline{X}} + A_2(n) \\overline{R}$\n",
    "> - $CL = \\overline{\\overline{X}}$\n",
    "> - $LCL = \\overline{\\overline{X}} - A_2(n) \\overline{R}$\n",
    ">\n",
    "> **$R$ chart**:\n",
    "> - $UCL = D_4(n) \\overline{R}$\n",
    "> - $CL = \\overline{R}$\n",
    "> - $LCL = D_3(n) \\overline{R}$"
   ]
  },
  {
   "cell_type": "markdown",
   "metadata": {},
   "source": [
    "![image](images/FactorsforConstructingVariableControlCharts.png)"
   ]
  },
  {
   "cell_type": "code",
   "execution_count": null,
   "metadata": {},
   "outputs": [],
   "source": [
    "n = 5\n",
    "A2 = 0.577\n",
    "D3 = 0\n",
    "D4 = 2.114\n",
    "\n",
    "# Now we can compute the CL, UCL and LCL for Xbar and R\n",
    "XR['Xbar_CL'] = Xbar_mean\n",
    "XR['Xbar_UCL'] = Xbar_mean + A2 * R_mean\n",
    "XR['Xbar_LCL'] = Xbar_mean - A2 * R_mean\n",
    "\n",
    "XR['R_CL'] = R_mean\n",
    "XR['R_UCL'] = D4 * R_mean\n",
    "XR['R_LCL'] = D3 * R_mean\n",
    "\n",
    "# Inspect the dataset\n",
    "XR.head()"
   ]
  },
  {
   "cell_type": "markdown",
   "metadata": {},
   "source": [
    "> Add two columns to store the violations of the control limits."
   ]
  },
  {
   "cell_type": "code",
   "execution_count": null,
   "metadata": {},
   "outputs": [],
   "source": [
    "XR['Xbar_TEST1'] = np.where((XR['sample_mean'] > XR['Xbar_UCL']) | \n",
    "                (XR['sample_mean'] < XR['Xbar_LCL']), XR['sample_mean'], np.nan)\n",
    "XR['R_TEST1'] = np.where((XR['sample_range'] > XR['R_UCL']) | \n",
    "                (XR['sample_range'] < XR['R_LCL']), XR['sample_range'], np.nan)"
   ]
  },
  {
   "cell_type": "markdown",
   "metadata": {},
   "source": [
    "> Now plot the limits and the data in the charts."
   ]
  },
  {
   "cell_type": "code",
   "execution_count": null,
   "metadata": {},
   "outputs": [],
   "source": [
    "# Plot the Xbar chart\n",
    "plt.title('Xbar chart')\n",
    "plt.plot(XR['sample_mean'], color='b', linestyle='--', marker='o')\n",
    "plt.plot(XR['Xbar_UCL'], color='r')\n",
    "plt.plot(XR['Xbar_CL'], color='g')\n",
    "plt.plot(XR['Xbar_LCL'], color='r')\n",
    "plt.ylabel('Sample mean')\n",
    "plt.xlabel('Sample number')\n",
    "# add the values of the control limits on the right side of the plot\n",
    "plt.text(len(XR)+.5, XR['Xbar_UCL'].iloc[0], 'UCL = {:.3f}'.format(XR['Xbar_UCL'].iloc[0]), verticalalignment='center')\n",
    "plt.text(len(XR)+.5, XR['Xbar_CL'].iloc[0], 'CL = {:.3f}'.format(XR['Xbar_CL'].iloc[0]), verticalalignment='center')\n",
    "plt.text(len(XR)+.5, XR['Xbar_LCL'].iloc[0], 'LCL = {:.3f}'.format(XR['Xbar_LCL'].iloc[0]), verticalalignment='center')\n",
    "# highlight the points that violate the alarm rules\n",
    "plt.plot(XR['Xbar_TEST1'], linestyle='none', marker='s', color='r', markersize=10)\n",
    "plt.xlim(-1, len(XR))\n",
    "plt.show()"
   ]
  },
  {
   "cell_type": "code",
   "execution_count": null,
   "metadata": {},
   "outputs": [],
   "source": [
    "# Plot the R chart\n",
    "plt.title('R chart')\n",
    "plt.plot(XR['sample_range'], color='b', linestyle='--', marker='o')\n",
    "plt.plot(XR['R_UCL'], color='r')\n",
    "plt.plot(XR['R_CL'], color='g')\n",
    "plt.plot(XR['R_LCL'], color='r')\n",
    "plt.ylabel('Sample range')\n",
    "plt.xlabel('Sample number')\n",
    "# add the values of the control limits on the right side of the plot\n",
    "plt.text(len(XR)+.5, XR['R_UCL'].iloc[0], 'UCL = {:.3f}'.format(XR['R_UCL'].iloc[0]), verticalalignment='center')\n",
    "plt.text(len(XR)+.5, XR['R_CL'].iloc[0], 'CL = {:.3f}'.format(XR['R_CL'].iloc[0]), verticalalignment='center')\n",
    "plt.text(len(XR)+.5, XR['R_LCL'].iloc[0], 'LCL = {:.3f}'.format(XR['R_LCL'].iloc[0]), verticalalignment='center')\n",
    "# highlight the points that violate the alarm rules\n",
    "plt.plot(XR['R_TEST1'], linestyle='none', marker='s', color='r', markersize=10)\n",
    "plt.xlim(-1, len(XR))\n",
    "plt.show()"
   ]
  },
  {
   "cell_type": "markdown",
   "metadata": {},
   "source": [
    "> One observation is signalled as out-of-control in both the X-bar and R charts. According to the text, when an out-of-control observation is detected, we must assume that an assignable cause has been identified. Consequently, we cannot attribute this alarm to a random false positive (i.e. false alarm). We must remove the observation and recalculate the control limits."
   ]
  },
  {
   "cell_type": "code",
   "execution_count": null,
   "metadata": {},
   "outputs": [],
   "source": [
    "# Let's find the array of indexes corresponding to OOC points (one in this case)\n",
    "\n",
    "# Find the index of the I_TEST1 column different from NaN\n",
    "OOC_idx = np.where(XR['Xbar_TEST1'].notnull())[0]\n",
    "# Print the index of the OOC points\n",
    "print('The index of the OOC point is: {}'.format(OOC_idx))"
   ]
  },
  {
   "cell_type": "code",
   "execution_count": null,
   "metadata": {},
   "outputs": [],
   "source": [
    "# Let's substitute the OOC points with NaN\n",
    "\n",
    "# make a copy of the data\n",
    "phase_1_cleaned = phase_1.copy()\n",
    "# replace the OOC point with NaN\n",
    "phase_1_cleaned.iloc[OOC_idx] = np.nan\n",
    "\n",
    "# Inspect the dataset\n",
    "phase_1_cleaned.head(7)"
   ]
  },
  {
   "cell_type": "markdown",
   "metadata": {},
   "source": [
    "> Once we have removed the OOC point we must recompute control limits. In this case we will exploit the qdatoolkit module."
   ]
  },
  {
   "cell_type": "code",
   "execution_count": null,
   "metadata": {},
   "outputs": [],
   "source": [
    "XR_cleaned = qda.ControlCharts.XbarR(phase_1_cleaned)"
   ]
  },
  {
   "cell_type": "code",
   "execution_count": null,
   "metadata": {},
   "outputs": [],
   "source": [
    "# Note that XR_cleaned is a dataframe\n",
    "XR_cleaned.head()"
   ]
  },
  {
   "cell_type": "markdown",
   "metadata": {},
   "source": [
    "> The process is in control."
   ]
  },
  {
   "cell_type": "markdown",
   "metadata": {},
   "source": [
    "> Let's proceed with Phase II. We need to import the new observations and compare them to the control limits established during Phase I."
   ]
  },
  {
   "cell_type": "code",
   "execution_count": null,
   "metadata": {},
   "outputs": [],
   "source": [
    "# Import the dataset\n",
    "phase_2 = pd.read_csv('../Data/gears_phase2.csv')\n",
    "\n",
    "# Inspect the dataset\n",
    "phase_2.head()"
   ]
  },
  {
   "cell_type": "code",
   "execution_count": null,
   "metadata": {},
   "outputs": [],
   "source": [
    "# Concatenate phase_2 data to phase_1_cleaned\n",
    "phase_1_2 = pd.concat([phase_1_cleaned, phase_2], ignore_index=True)\n",
    "\n",
    "# Plot the control chart with qdatoolkit\n",
    "XR_phase_1_2 = qda.ControlCharts.XbarR(phase_1_2, subset_size=len(phase_1_cleaned)) # subset_size is the number of samples on which the control limits are computed"
   ]
  },
  {
   "cell_type": "markdown",
   "metadata": {},
   "source": [
    "> The R chart signals an out-of-control point, indicating that one sample is showing unusual variability. Since we are in Phase II, we should investigate the process to determine if it is a false alarm or if there is an assignable cause that requires intervention."
   ]
  },
  {
   "cell_type": "markdown",
   "metadata": {},
   "source": [
    "### Point 2 - Redesign the Xbar-R charts\n",
    "Redesign the X-bar and R chart in order to achieve in both the charts an Average Run Length (ARL0) of 1000 (assuming that the normal approximation applies for both of them)."
   ]
  },
  {
   "cell_type": "markdown",
   "metadata": {},
   "source": [
    "> Find the Type I error ($\\alpha$) for which the Average Run Length (ARL) is 1000:\n",
    ">$$\\alpha = \\frac{1}{ARL_{0}}$$"
   ]
  },
  {
   "cell_type": "code",
   "execution_count": null,
   "metadata": {},
   "outputs": [],
   "source": [
    "# Compute the new alpha value\n",
    "ARL = 1000\n",
    "alpha = 1/ARL\n",
    "\n",
    "print('alpha = %.3f' % (alpha))"
   ]
  },
  {
   "cell_type": "markdown",
   "metadata": {},
   "source": [
    "> Assuming that the normal approximation applies for both charts, we need to find the value of K such that $\\alpha = 0.001$:\n",
    "> $$K = z_{\\alpha/2}$$"
   ]
  },
  {
   "cell_type": "code",
   "execution_count": null,
   "metadata": {},
   "outputs": [],
   "source": [
    "# Compute the new K_alpha value\n",
    "alpha = 0.001\n",
    "K_alpha = stats.norm.ppf(1-alpha/2)\n",
    "\n",
    "print('K = %.3f' % K_alpha)"
   ]
  },
  {
   "cell_type": "markdown",
   "metadata": {},
   "source": [
    "> Now let's design the control charts with the new value of K. \n",
    ">\n",
    "> Remember the formulas for the control limits for $K \\neq 3$.\n",
    ">\n",
    "> **$\\mathbf{\\bar{X}}$ chart**:\n",
    "> - $UCL = \\overline{\\overline{X}} + z_{\\alpha/2} \\frac{1}{d_2 \\sqrt{n}} \\overline{R}$\n",
    "> - $CL = \\overline{\\overline{X}}$\n",
    "> - $LCL = \\overline{\\overline{X}} - z_{\\alpha/2} \\frac{1}{d_2 \\sqrt{n}} \\overline{R}$\n",
    ">\n",
    "> **$R$ chart**:\n",
    "> - $UCL = \\overline{R} + z_{\\alpha/2} \\frac{d_3}{d_2} \\overline{R}$\n",
    "> - $CL = \\overline{R}$\n",
    "> - $LCL = max(0;\\ \\overline{R} - z_{\\alpha/2} \\frac{d_3}{d_2} \\overline{R})$"
   ]
  },
  {
   "cell_type": "code",
   "execution_count": null,
   "metadata": {},
   "outputs": [],
   "source": [
    "# We can use the same function again. This time we need to specify the new K_alpha value\n",
    "XR = qda.ControlCharts.XbarR(phase_1, K = K_alpha)"
   ]
  },
  {
   "cell_type": "markdown",
   "metadata": {},
   "source": [
    "> Note that using alpha = 0.001 has resulted in both X-bar and R charts without any out-of-control samples. These charts will signal fewer false alarms, but they may miss process non-random variations.\n",
    "\n",
    "> Let's proceed with Phase II anyway."
   ]
  },
  {
   "cell_type": "code",
   "execution_count": null,
   "metadata": {},
   "outputs": [],
   "source": [
    "# Concatenate the Phase I and Phase II data\n",
    "phase_1_2 = pd.concat([phase_1, phase_2], ignore_index=True)\n",
    "\n",
    "# Plot the control chart with qdatoolkit\n",
    "XR_phase_1_2 = qda.ControlCharts.XbarR(phase_1_2, subset_size=len(phase_1), K=K_alpha)"
   ]
  },
  {
   "cell_type": "markdown",
   "metadata": {},
   "source": [
    "> The observation previously signaled as out-of-control in Phase II (using alpha = 0.0027) is now in-control (using alpha = 0.001).\n",
    "\n",
    "> The choice of the tolerated Type I error depends on the balance between detecting true out-of-control conditions and minimizing false alarms. A lower alpha (e.g., 0.001) reduces false alarms but may miss subtle process variations. The decision should be based on the specific requirements and tolerance for risk in the process being monitored."
   ]
  },
  {
   "cell_type": "markdown",
   "metadata": {},
   "source": [
    "### Point 3 - OC curve\n",
    "Determine the operating characteristic curve (OC) for the X-bar chart (by using $K=3$ and expressing the shift of the mean in standard deviation units)."
   ]
  },
  {
   "cell_type": "markdown",
   "metadata": {},
   "source": [
    "> To determine the OC curve, we need to compute the probability of $\\beta$ for each value of the shift $\\mu$.\n",
    "> \n",
    "> We are testing the null hypothesis $H_0$ that the sample mean $\\bar{X}$ is normally distributed with mean $\\mu_0$ and variance $\\sigma^2 / n$.\n",
    "> $$H_0: \\bar{X} \\sim N(\\mu_0, \\sigma^2 / n)$$\n",
    ">\n",
    "> The alternative hypothesis is that the sample mean is normally distributed with mean $\\mu_1$ and variance $\\sigma^2 / n$.\n",
    "> $$H_1: \\bar{X} \\sim N(\\mu_1, \\sigma^2 / n)$$\n",
    ">\n",
    "> So $\\beta$ is the probability of not rejecting $H_0$ when $H_1$ is true.\n",
    "> $$\\beta = P(LCL \\leq \\bar{X} \\leq UCL | H_1)$$\n",
    "> $$\\beta = P(Z \\leq \\frac{UCL - \\mu_1}{\\sigma / \\sqrt{n}}) - P(Z \\leq \\frac{LCL - \\mu_1}{\\sigma / \\sqrt{n}})$$\n",
    "> If we define $\\delta = (\\mu_1 - \\mu_0) / \\sigma$, we can write:\n",
    "> $$\\beta = P(Z \\leq 3 - \\delta \\sqrt{n}) - P(Z \\leq -3 - \\delta \\sqrt{n})$$"
   ]
  },
  {
   "cell_type": "code",
   "execution_count": null,
   "metadata": {},
   "outputs": [],
   "source": [
    "# Define a range of values for beta\n",
    "delta = np.linspace(0, 4, 100)\n",
    "# Compute the corresponding beta values\n",
    "beta = stats.norm.cdf(3 - delta*np.sqrt(n)) - stats.norm.cdf(-3 - delta*np.sqrt(n))\n",
    "\n",
    "# Plot the beta values\n",
    "plt.plot(delta, beta)\n",
    "plt.xlabel('Delta')\n",
    "plt.ylabel('Beta')\n",
    "plt.title('Operating characteristic curve')\n",
    "plt.show()"
   ]
  },
  {
   "cell_type": "markdown",
   "metadata": {},
   "source": [
    "### Point 4 - ARL curve\n",
    "Determine the corresponding ARL curve. "
   ]
  },
  {
   "cell_type": "markdown",
   "metadata": {},
   "source": [
    "> We know that the ARL curve is defined as:\n",
    "> $$ARL = \\frac{1}{1-\\beta}$$"
   ]
  },
  {
   "cell_type": "code",
   "execution_count": null,
   "metadata": {},
   "outputs": [],
   "source": [
    "# Compute ARL using the previous values of beta\n",
    "ARL = 1/(1-beta)\n",
    "\n",
    "# Plot the ARL values\n",
    "plt.plot(delta, ARL)\n",
    "plt.xlabel('Delta')\n",
    "plt.ylabel('ARL')\n",
    "plt.title('Average run length')\n",
    "plt.show()"
   ]
  },
  {
   "cell_type": "markdown",
   "metadata": {},
   "source": [
    "### Point 5 - Estimate the stdev\n",
    "Estimate the standard deviation through the statistic $R$ (consider original Phase 1 data)."
   ]
  },
  {
   "cell_type": "markdown",
   "metadata": {},
   "source": [
    "> The standard deviation is estimated through the statistic $R$ as:\n",
    "> $$\\hat{\\sigma} = \\frac{\\bar{R}}{d_2(n)}$$"
   ]
  },
  {
   "cell_type": "code",
   "execution_count": null,
   "metadata": {},
   "outputs": [],
   "source": [
    "# You can use the function `getd2` from `qda.constants` to get the value of d2(n)\n",
    "\n",
    "d2 = qda.constants.getd2(n)\n",
    "sigma_hat = R_mean / d2\n",
    "print('Sigma_hat = %.3f' % sigma_hat)"
   ]
  },
  {
   "cell_type": "markdown",
   "metadata": {},
   "source": [
    "### Point 6 - Control limits and confidence interval\n",
    "Design the confidence interval on the process mean that corresponds to the control limits computed in Point 1 (consider original Phase I data)"
   ]
  },
  {
   "cell_type": "markdown",
   "metadata": {},
   "source": [
    "> The confidence interval corresponding to the control limits computed in point 1 uses: \n",
    "> - $n = 5$\n",
    "> - $\\alpha = 0.0027$\n",
    "> - $\\hat{\\sigma} = 0.222$ (computed from the data)\n",
    "> - $\\overline{X} = 24.033$ (computed from the data)\n",
    ">\n",
    "> Remember the formula of the confidence interval (assume that $\\hat{\\sigma}$ is the real population variance):\n",
    "> $$\\bar{X} - z_{\\alpha/2} \\frac{\\hat{\\sigma}}{\\sqrt{n}} \\leq \\mu \\leq \\bar{X} + z_{\\alpha/2} \\frac{\\hat{\\sigma}}{\\sqrt{n}}$$"
   ]
  },
  {
   "cell_type": "code",
   "execution_count": null,
   "metadata": {},
   "outputs": [],
   "source": [
    "# You can compute the CI using the formula or using the `interval` function from the `stats.norm` package.\n",
    "alpha = 0.0027\n",
    "\n",
    "CI = stats.norm.interval(1-alpha, loc=Xbar_mean, scale=sigma_hat/np.sqrt(n))\n",
    "print('CI = (%.3f, %.3f)' % CI)"
   ]
  },
  {
   "cell_type": "markdown",
   "metadata": {},
   "source": [
    "### Point 7 - Xbar-S charts\n",
    "Verify if the process is in control by using an X-bar and S chart. For any out-of-control points detected in Phase I, assume that an assignable cause is found. Check if data contained in `gears_phase2.csv` is in control."
   ]
  },
  {
   "cell_type": "markdown",
   "metadata": {},
   "source": [
    "> We have already checked normality of data during point 1.1, so we can directly design the X-bar and S charts.\n",
    ">\n",
    "> Since there is no constraint on the choice of Type I error $\\alpha$, we can set K = 3 ($\\alpha$ = 0.0027)"
   ]
  },
  {
   "cell_type": "markdown",
   "metadata": {},
   "source": [
    "![image](images/Schart1.png)"
   ]
  },
  {
   "cell_type": "markdown",
   "metadata": {},
   "source": [
    "![image](images/Schart2.png)"
   ]
  },
  {
   "cell_type": "markdown",
   "metadata": {},
   "source": [
    "> Let's compute the mean and the standard deviation for each sample. \n",
    "> \n",
    "> *Note: we need to apply the mean and std functions to each row of the data frame.*"
   ]
  },
  {
   "cell_type": "code",
   "execution_count": null,
   "metadata": {},
   "outputs": [],
   "source": [
    "# Make a copy of the data\n",
    "XS = phase_1.copy()\n",
    "# Add a column with the mean of the rows\n",
    "XS['sample_mean'] = phase_1.mean(axis=1)\n",
    "# Add a column with the range of the rows\n",
    "XS['sample_std'] = phase_1.std(axis=1)\n",
    "\n",
    "# Inspect the dataset\n",
    "XS.head()"
   ]
  },
  {
   "cell_type": "markdown",
   "metadata": {},
   "source": [
    "> Now compute the grand mean and the mean of the standard deviations."
   ]
  },
  {
   "cell_type": "code",
   "execution_count": null,
   "metadata": {},
   "outputs": [],
   "source": [
    "Xbar_mean = XS['sample_mean'].mean()\n",
    "S_mean = XS['sample_std'].mean()\n",
    "\n",
    "print('Mean of the sample mean: %.3f' % Xbar_mean)\n",
    "print('Mean of the sample range: %.3f' % S_mean)"
   ]
  },
  {
   "cell_type": "code",
   "execution_count": null,
   "metadata": {},
   "outputs": [],
   "source": [
    "n = 5\n",
    "K = 3\n",
    "A3 = K * 1 / (qda.constants.getc4(n) * np.sqrt(n))\n",
    "B3 = np.maximum(1 - K * (np.sqrt(1-qda.constants.getc4(n)**2)) / (qda.constants.getc4(n)), 0)\n",
    "B4 = 1 + K * (np.sqrt(1-qda.constants.getc4(n)**2)) / (qda.constants.getc4(n))\n",
    "\n",
    "# Now we can compute the CL, UCL and LCL for Xbar and S\n",
    "XS['Xbar_CL'] = Xbar_mean\n",
    "XS['Xbar_UCL'] = Xbar_mean + A3 * S_mean\n",
    "XS['Xbar_LCL'] = Xbar_mean - A3 * S_mean\n",
    "\n",
    "XS['S_CL'] = S_mean\n",
    "XS['S_UCL'] = B4 * S_mean\n",
    "XS['S_LCL'] = B3 * S_mean\n",
    "\n",
    "# Inspect the dataset\n",
    "XS.head()"
   ]
  },
  {
   "cell_type": "markdown",
   "metadata": {},
   "source": [
    "> Add two columns to store the violations of the control limits."
   ]
  },
  {
   "cell_type": "code",
   "execution_count": null,
   "metadata": {},
   "outputs": [],
   "source": [
    "XS['Xbar_TEST1'] = np.where((XS['sample_mean'] > XS['Xbar_UCL']) | \n",
    "                (XS['sample_mean'] < XS['Xbar_LCL']), XS['sample_mean'], np.nan)\n",
    "XS['S_TEST1'] = np.where((XS['sample_std'] > XS['S_UCL']) | \n",
    "                (XS['sample_std'] < XS['S_LCL']), XS['sample_std'], np.nan)"
   ]
  },
  {
   "cell_type": "markdown",
   "metadata": {},
   "source": [
    "> Now plot the limits and the data in the charts."
   ]
  },
  {
   "cell_type": "code",
   "execution_count": null,
   "metadata": {},
   "outputs": [],
   "source": [
    "# Plot the Xbar chart\n",
    "plt.title('Xbar chart')\n",
    "plt.plot(XS['sample_mean'], color='b', linestyle='--', marker='o')\n",
    "plt.plot(XS['Xbar_UCL'], color='r')\n",
    "plt.plot(XS['Xbar_CL'], color='g')\n",
    "plt.plot(XS['Xbar_LCL'], color='r')\n",
    "plt.ylabel('Sample mean')\n",
    "plt.xlabel('Sample number')\n",
    "# add the values of the control limits on the right side of the plot\n",
    "plt.text(len(XS)+.5, XS['Xbar_UCL'].iloc[0], 'UCL = {:.3f}'.format(XS['Xbar_UCL'].iloc[0]), verticalalignment='center')\n",
    "plt.text(len(XS)+.5, XS['Xbar_CL'].iloc[0], 'CL = {:.3f}'.format(XS['Xbar_CL'].iloc[0]), verticalalignment='center')\n",
    "plt.text(len(XS)+.5, XS['Xbar_LCL'].iloc[0], 'LCL = {:.3f}'.format(XS['Xbar_LCL'].iloc[0]), verticalalignment='center')\n",
    "# highlight the points that violate the alarm rules\n",
    "plt.plot(XS['Xbar_TEST1'], linestyle='none', marker='s', color='r', markersize=10)\n",
    "plt.show()"
   ]
  },
  {
   "cell_type": "code",
   "execution_count": null,
   "metadata": {},
   "outputs": [],
   "source": [
    "# Plot the S chart\n",
    "plt.title('S chart')\n",
    "plt.plot(XS['sample_std'], color='b', linestyle='--', marker='o')\n",
    "plt.plot(XS['S_UCL'], color='r')\n",
    "plt.plot(XS['S_CL'], color='g')\n",
    "plt.plot(XS['S_LCL'], color='r')\n",
    "plt.ylabel('Sample S')\n",
    "plt.xlabel('Sample number')\n",
    "# add the values of the control limits on the right side of the plot\n",
    "plt.text(len(XS)+.5, XS['S_UCL'].iloc[0], 'UCL = {:.3f}'.format(XS['S_UCL'].iloc[0]), verticalalignment='center')\n",
    "plt.text(len(XS)+.5, XS['S_CL'].iloc[0], 'CL = {:.3f}'.format(XS['S_CL'].iloc[0]), verticalalignment='center')\n",
    "plt.text(len(XS)+.5, XS['S_LCL'].iloc[0], 'LCL = {:.3f}'.format(XS['S_LCL'].iloc[0]), verticalalignment='center')\n",
    "# highlight the points that violate the alarm rules\n",
    "plt.plot(XS['S_TEST1'], linestyle='none', marker='s', color='r', markersize=10)\n",
    "plt.show()"
   ]
  },
  {
   "cell_type": "markdown",
   "metadata": {},
   "source": [
    "> The X-bar chart is signalling an out-of-control point (observation 5), the same detected by the Xbar chart at point 1.1. However, the S chart is not signalling an alarm for observation 5, unlike the R chart. This is because the S chart considers the overall spread of data points within each sample and is less influenced by extreme values. In contrast, the range statistic is highly sensitive to extreme values within the sample since it considers only the lowest and highest values. "
   ]
  },
  {
   "cell_type": "markdown",
   "metadata": {},
   "source": [
    "> Let's recompute the control limits on the Phase I dataset, cleaned of the out-of-control point."
   ]
  },
  {
   "cell_type": "code",
   "execution_count": null,
   "metadata": {},
   "outputs": [],
   "source": [
    "XS_phase_1_cleaned = qda.ControlCharts.XbarS(phase_1_cleaned) # subset_size is the number of samples on which the control limits are computed"
   ]
  },
  {
   "cell_type": "markdown",
   "metadata": {},
   "source": [
    "> Let's add the Phase II data in the charts using the qdatoolkit module."
   ]
  },
  {
   "cell_type": "code",
   "execution_count": null,
   "metadata": {},
   "outputs": [],
   "source": [
    "# Let's concatenate the phase_1_cleaned and phase_2 data\n",
    "phase_1_2 = pd.concat([phase_1_cleaned, phase_2], ignore_index=True)\n",
    "\n",
    "# Compute the Xbar-S chart\n",
    "XS_phase_1_2 = qda.ControlCharts.XbarS(phase_1_2, subset_size=len(phase_1_cleaned)) # subset_size is the number of samples on which the control limits are computed"
   ]
  },
  {
   "cell_type": "markdown",
   "metadata": {},
   "source": [
    "> The S chart signals an out-of-control point, the same detected by the R chart, indicating that one sample is showing unusual variability. As already discussed, we should investigate the process to determine if it is a false alarm or if there is an assignable cause that requires intervention."
   ]
  },
  {
   "cell_type": "markdown",
   "metadata": {},
   "source": [
    "### Point 8 - Xbar-S charts (known distribution)\n",
    "Knowing that the gear diameter ($X$) is distributed as a normal distribution with mean 24 mm and standard deviation 0.26 mm, $X∼N(\\mu=24,\\sigma=0.26)$, design an Xbar and S chart. For any out-of-control points detected, assume that an assignable cause is found. Check if Phase II data is in control."
   ]
  },
  {
   "cell_type": "markdown",
   "metadata": {},
   "source": [
    "> Since there is no constraint on the choice of Type I error $\\alpha$, we can set K = 3 ($\\alpha$ = 0.0027)\n",
    ">\n",
    "> Remember the formulas for the control limits for known parameters (K=3):\n",
    ">\n",
    ">**$\\mathbf{\\bar{X}}$ chart**:\n",
    ">- $UCL = \\mu + K \\frac{\\sigma}{\\sqrt{n}} = \\mu + A(n) \\sigma$\n",
    ">- $CL = \\mu$\n",
    ">- $LCL = \\mu - K \\frac{\\sigma}{\\sqrt{n}} = \\mu - A(n) \\sigma$\n",
    ">\n",
    ">**$S$ chart**:\n",
    ">- $UCL = B_6(n) c_4 \\sigma$\n",
    ">- $CL = c_4 \\sigma$\n",
    ">- $LCL = B_5(n) c_4 \\sigma$"
   ]
  },
  {
   "cell_type": "code",
   "execution_count": null,
   "metadata": {},
   "outputs": [],
   "source": [
    "# Make a copy of the data\n",
    "XS = phase_1.copy()\n",
    "# Add a column with the mean of the rows\n",
    "XS['sample_mean'] = phase_1.mean(axis=1)\n",
    "# Add a column with the range of the rows\n",
    "XS['sample_std'] = phase_1.std(axis=1)\n",
    "\n",
    "# Inspect the dataset\n",
    "XS.head()"
   ]
  },
  {
   "cell_type": "code",
   "execution_count": null,
   "metadata": {},
   "outputs": [],
   "source": [
    "mu = 24\n",
    "sigma = 0.26\n",
    "n = 5\n",
    "K = 3\n",
    "A = K * 1 / (np.sqrt(n))\n",
    "c4 = qda.constants.getc4(n)\n",
    "B5 = np.maximum(c4 - K * np.sqrt(1 - c4**2), 0)\n",
    "B6 = c4 + K * np.sqrt(1 - c4**2)\n",
    "\n",
    "# Now we can compute the CL, UCL and LCL for Xbar and S\n",
    "XS['Xbar_CL'] = mu\n",
    "XS['Xbar_UCL'] = mu + A * sigma\n",
    "XS['Xbar_LCL'] = mu - A * sigma\n",
    "\n",
    "XS['S_CL'] = c4 * sigma\n",
    "XS['S_UCL'] = B6 * sigma\n",
    "XS['S_LCL'] = B5 * sigma\n",
    "\n",
    "# Inspect the dataset\n",
    "XS.head()"
   ]
  },
  {
   "cell_type": "markdown",
   "metadata": {},
   "source": [
    "> Add two columns to store the violations of the control limits."
   ]
  },
  {
   "cell_type": "code",
   "execution_count": null,
   "metadata": {},
   "outputs": [],
   "source": [
    "XS['Xbar_TEST1'] = np.where((XS['sample_mean'] > XS['Xbar_UCL']) | \n",
    "                (XS['sample_mean'] < XS['Xbar_LCL']), XS['sample_mean'], np.nan)\n",
    "XS['S_TEST1'] = np.where((XS['sample_std'] > XS['S_UCL']) | \n",
    "                (XS['sample_std'] < XS['S_LCL']), XS['sample_std'], np.nan)"
   ]
  },
  {
   "cell_type": "markdown",
   "metadata": {},
   "source": [
    "> Now plot the limits and the data in the charts."
   ]
  },
  {
   "cell_type": "code",
   "execution_count": null,
   "metadata": {},
   "outputs": [],
   "source": [
    "# Plot the Xbar chart\n",
    "plt.title('Xbar chart')\n",
    "plt.plot(XS['sample_mean'], color='b', linestyle='--', marker='o')\n",
    "plt.plot(XS['Xbar_UCL'], color='r')\n",
    "plt.plot(XS['Xbar_CL'], color='g')\n",
    "plt.plot(XS['Xbar_LCL'], color='r')\n",
    "plt.ylabel('Sample mean')\n",
    "plt.xlabel('Sample number')\n",
    "# add the values of the control limits on the right side of the plot\n",
    "plt.text(len(XS)+.5, XS['Xbar_UCL'].iloc[0], 'UCL = {:.3f}'.format(XS['Xbar_UCL'].iloc[0]), verticalalignment='center')\n",
    "plt.text(len(XS)+.5, XS['Xbar_CL'].iloc[0], 'CL = {:.3f}'.format(XS['Xbar_CL'].iloc[0]), verticalalignment='center')\n",
    "plt.text(len(XS)+.5, XS['Xbar_LCL'].iloc[0], 'LCL = {:.3f}'.format(XS['Xbar_LCL'].iloc[0]), verticalalignment='center')\n",
    "# highlight the points that violate the alarm rules\n",
    "plt.plot(XS['Xbar_TEST1'], linestyle='none', marker='s', color='r', markersize=10)\n",
    "plt.show()"
   ]
  },
  {
   "cell_type": "code",
   "execution_count": null,
   "metadata": {},
   "outputs": [],
   "source": [
    "# Plot the S chart\n",
    "plt.title('S chart')\n",
    "plt.plot(XS['sample_std'], color='b', linestyle='--', marker='o')\n",
    "plt.plot(XS['S_UCL'], color='r')\n",
    "plt.plot(XS['S_CL'], color='g')\n",
    "plt.plot(XS['S_LCL'], color='r')\n",
    "plt.ylabel('Sample S')\n",
    "plt.xlabel('Sample number')\n",
    "# add the values of the control limits on the right side of the plot\n",
    "plt.text(len(XS)+.5, XS['S_UCL'].iloc[0], 'UCL = {:.3f}'.format(XS['S_UCL'].iloc[0]), verticalalignment='center')\n",
    "plt.text(len(XS)+.5, XS['S_CL'].iloc[0], 'CL = {:.3f}'.format(XS['S_CL'].iloc[0]), verticalalignment='center')\n",
    "plt.text(len(XS)+.5, XS['S_LCL'].iloc[0], 'LCL = {:.3f}'.format(XS['S_LCL'].iloc[0]), verticalalignment='center')\n",
    "# highlight the points that violate the alarm rules\n",
    "plt.plot(XS['S_TEST1'], linestyle='none', marker='s', color='r', markersize=10)\n",
    "plt.show()"
   ]
  },
  {
   "cell_type": "markdown",
   "metadata": {},
   "source": [
    "> Even if one point is borderline in the Xbar chart, no observation is OOC when designing the charts with the known parameters."
   ]
  },
  {
   "cell_type": "markdown",
   "metadata": {},
   "source": [
    "> We can obtain the same result with qdatoolkit."
   ]
  },
  {
   "cell_type": "code",
   "execution_count": null,
   "metadata": {},
   "outputs": [],
   "source": [
    "# Compute the Xbar-S chart with known parameters using qdatoolkit\n",
    "XS = qda.ControlCharts.XbarS(phase_1, K = 3, mean=mu, sigma=sigma)"
   ]
  },
  {
   "cell_type": "markdown",
   "metadata": {},
   "source": [
    "> Let's add Phase II data in the plots."
   ]
  },
  {
   "cell_type": "code",
   "execution_count": null,
   "metadata": {},
   "outputs": [],
   "source": [
    "# Concatenate the Phase I and Phase II data\n",
    "phase_1_2 = pd.concat([phase_1, phase_2], ignore_index=True)\n",
    "\n",
    "# Plot the control chart with qdatoolkit\n",
    "XS_phase_1_2 = qda.ControlCharts.XbarS(phase_1_2, subset_size=len(phase_1), K=3, mean=mu, sigma=sigma)"
   ]
  },
  {
   "cell_type": "markdown",
   "metadata": {},
   "source": [
    "> The process in in-control."
   ]
  }
 ],
 "metadata": {
  "kernelspec": {
   "display_name": "qda_test",
   "language": "python",
   "name": "python3"
  },
  "language_info": {
   "codemirror_mode": {
    "name": "ipython",
    "version": 3
   },
   "file_extension": ".py",
   "mimetype": "text/x-python",
   "name": "python",
   "nbconvert_exporter": "python",
   "pygments_lexer": "ipython3",
   "version": "3.7.1"
  }
 },
 "nbformat": 4,
 "nbformat_minor": 2
}
