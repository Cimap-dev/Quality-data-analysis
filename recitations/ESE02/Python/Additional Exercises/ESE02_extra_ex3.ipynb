{
 "cells": [
  {
   "attachments": {},
   "cell_type": "markdown",
   "metadata": {},
   "source": [
    "# EXTRA EXERCISE 3\n",
    "\n",
    "By using the dataset `general_motors.csv`, design an I-MR control chart with probability limits (i.e., use the true distribution of both statistics) with $\\alpha=0.01$.\n",
    "\n",
    "With regard to the MR chart, use both the half-normal distribution and the data transformation.\n",
    "\n"
   ]
  },
  {
   "cell_type": "code",
   "execution_count": null,
   "metadata": {},
   "outputs": [],
   "source": [
    "# Import the necessary libraries\n",
    "import numpy as np\n",
    "import matplotlib.pyplot as plt\n",
    "import pandas as pd\n",
    "from scipy import stats\n",
    "import qdatoolkit as qda\n",
    "\n",
    "# Import the dataset\n",
    "data = pd.read_csv('../../Data/general_motors.csv')\n",
    "\n",
    "# Inspect the dataset\n",
    "data.head()"
   ]
  },
  {
   "cell_type": "markdown",
   "metadata": {},
   "source": [
    "> Let's check normality and independence."
   ]
  },
  {
   "cell_type": "code",
   "execution_count": null,
   "metadata": {},
   "outputs": [],
   "source": [
    "qda.Assumptions(data['GM']).normality()"
   ]
  },
  {
   "cell_type": "code",
   "execution_count": null,
   "metadata": {},
   "outputs": [],
   "source": [
    "_ = qda.Assumptions(data['GM']).independence()"
   ]
  },
  {
   "attachments": {},
   "cell_type": "markdown",
   "metadata": {},
   "source": [
    "> Let's find the new value of K for designing the IMR control chart. "
   ]
  },
  {
   "cell_type": "code",
   "execution_count": null,
   "metadata": {},
   "outputs": [],
   "source": [
    "alpha = 0.01\n",
    "K_alpha = stats.norm.ppf(1-alpha/2)\n",
    "print('New K value = %.3f' % K_alpha)"
   ]
  },
  {
   "attachments": {},
   "cell_type": "markdown",
   "metadata": {},
   "source": [
    "> Remove the OOC we observed in EXTRA EXERCISE 2."
   ]
  },
  {
   "cell_type": "code",
   "execution_count": null,
   "metadata": {},
   "outputs": [],
   "source": [
    "OOC_idx = 28\n",
    "data['GM'].iloc[OOC_idx] = np.nan"
   ]
  },
  {
   "cell_type": "code",
   "execution_count": null,
   "metadata": {},
   "outputs": [],
   "source": [
    "# Design the IMR control chart\n",
    "data_IMR = qda.ControlCharts.IMR(data, 'GM', K = K_alpha)"
   ]
  },
  {
   "attachments": {},
   "cell_type": "markdown",
   "metadata": {},
   "source": [
    "> Let's redesign the MR control chart by using the half-normal approximation first:\n",
    "> - $UCL = D_{1-\\alpha/2} \\frac{\\bar{MR}}{d_2}$\n",
    "> - $LCL = D_{\\alpha/2} \\frac{\\bar{MR}}{d_2}$\n",
    ">\n",
    "> For $n=2$ (Alwan, Appendix A):\n",
    "> - $D_{1-\\alpha/2} = \\sqrt{2} z_{alpha/4}$\n",
    "> - $D_{\\alpha/2} = \\sqrt{2} z_{1/2 - alpha/4}$"
   ]
  },
  {
   "cell_type": "code",
   "execution_count": null,
   "metadata": {},
   "outputs": [],
   "source": [
    "D_UCL = np.sqrt(2) * stats.norm.ppf(1-alpha/4)\n",
    "D_LCL = np.sqrt(2) * stats.norm.ppf(1 - (1/2 - alpha/4))\n",
    "\n",
    "MR_UCL = D_UCL * data_IMR['MR'].mean()/qda.constants.getd2(2)\n",
    "MR_LCL = D_LCL * data_IMR['MR'].mean()/qda.constants.getd2(2)\n",
    "\n",
    "print('MR_UCL = %.4f' % MR_UCL)\n",
    "print('MR_LCL = %.4f' % MR_LCL)"
   ]
  },
  {
   "attachments": {},
   "cell_type": "markdown",
   "metadata": {},
   "source": [
    "> Let's plot the MR chart with the half-normal approximation."
   ]
  },
  {
   "cell_type": "code",
   "execution_count": null,
   "metadata": {},
   "outputs": [],
   "source": [
    "data_IMR['MR_TEST1'] = np.where((data_IMR['MR'] > MR_UCL) | \n",
    "                                (data_IMR['MR'] < MR_LCL), data_IMR['MR'], np.nan)\n",
    "\n",
    "plt.plot(data_IMR['MR'], 'o-')\n",
    "plt.axhline(MR_UCL, color = 'r')\n",
    "plt.axhline(MR_LCL, color = 'r')\n",
    "plt.plot(data_IMR['MR_TEST1'], linestyle='none', marker='s', color='r', markersize=10)\n",
    "plt.show()"
   ]
  }
 ],
 "metadata": {
  "kernelspec": {
   "display_name": "qda_test",
   "language": "python",
   "name": "python3"
  },
  "language_info": {
   "codemirror_mode": {
    "name": "ipython",
    "version": 3
   },
   "file_extension": ".py",
   "mimetype": "text/x-python",
   "name": "python",
   "nbconvert_exporter": "python",
   "pygments_lexer": "ipython3",
   "version": "3.7.1"
  },
  "orig_nbformat": 4
 },
 "nbformat": 4,
 "nbformat_minor": 2
}
