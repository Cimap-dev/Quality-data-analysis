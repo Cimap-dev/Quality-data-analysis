{
 "cells": [
  {
   "cell_type": "code",
   "execution_count": null,
   "metadata": {},
   "outputs": [],
   "source": [
    "# Import the necessary libraries\n",
    "import numpy as np\n",
    "import matplotlib.pyplot as plt\n",
    "import pandas as pd\n",
    "from scipy import stats\n",
    "import qda\n",
    "import myfunc as mf\n"
   ]
  },
  {
   "cell_type": "code",
   "execution_count": null,
   "metadata": {},
   "outputs": [],
   "source": [
    "# Import the dataset\n",
    "data = pd.read_csv('nome.csv')\n",
    "\n",
    "# Inspect the dataset\n",
    "print(data.info())\n",
    "print('')\n",
    "data.head()\n",
    "\n",
    "#CHIEDITI SE CONVIENE RIMUOVERE UNA COLONNA(n>1, p=1)!!!\n",
    "#data.drop(columns=['X2'], inplace=True)\n",
    "#oppure:\n",
    "#data2=data.copy()\n",
    "#data2.drop(columns=['X2'], inplace=True) #lo tolgo solo dalla copia e l'altra originale me la lascio"
   ]
  },
  {
   "cell_type": "code",
   "execution_count": null,
   "metadata": {},
   "outputs": [],
   "source": [
    "d=data['duration']\n",
    "mf.single_ts_plot(d)"
   ]
  },
  {
   "cell_type": "code",
   "execution_count": null,
   "metadata": {},
   "outputs": [],
   "source": [
    "mf.runs(d)\n",
    "mf.shapiroqq(d)"
   ]
  },
  {
   "cell_type": "code",
   "execution_count": null,
   "metadata": {},
   "outputs": [],
   "source": [
    "mf.acfpacf(d)\n",
    "mf.bartlett_test(d,1)"
   ]
  }
 ],
 "metadata": {
  "language_info": {
   "name": "python"
  }
 },
 "nbformat": 4,
 "nbformat_minor": 2
}
