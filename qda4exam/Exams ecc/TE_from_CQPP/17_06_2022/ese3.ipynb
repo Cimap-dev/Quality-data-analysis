{
 "cells": [
  {
   "cell_type": "code",
   "execution_count": 10,
   "metadata": {},
   "outputs": [],
   "source": [
    "mu0=100\n",
    "sigma0=9.5\n",
    "delta=10\n",
    "lmbda=0.5*delta\n",
    "K=3\n",
    "n=5\n",
    "delta_piccolo=delta/sigma0"
   ]
  },
  {
   "cell_type": "code",
   "execution_count": 11,
   "metadata": {},
   "outputs": [],
   "source": [
    "import numpy as np\n",
    "import matplotlib.pyplot as plt\n",
    "import pandas as pd\n",
    "from scipy import stats\n",
    "import qda\n",
    "import myfunc as mf"
   ]
  },
  {
   "cell_type": "code",
   "execution_count": 12,
   "metadata": {},
   "outputs": [
    {
     "name": "stdout",
     "output_type": "stream",
     "text": [
      "0.40927895912592765\n",
      "0.05015895037790908\n",
      "0.9794709969984803\n"
     ]
    }
   ],
   "source": [
    "beta_XbarCC=stats.norm.cdf(1/lmbda*(K-delta_piccolo*np.sqrt(n)))-stats.norm.cdf(1/lmbda*(-K-delta_piccolo*np.sqrt(n)))\n",
    "alpha=0.0027\n",
    "chi2_cv1=stats.chi2.ppf(1-alpha/2,n-1)\n",
    "chi2_cv2=stats.chi2.ppf(alpha/2,n-1)\n",
    "beta_S_CC=stats.chi2.cdf(chi2_cv1/lmbda**2,n-1)-stats.chi2.cdf(chi2_cv2/lmbda**2,n-1)\n",
    "print(beta_XbarCC)\n",
    "print(beta_S_CC)\n",
    "Power=1-(beta_S_CC*beta_XbarCC)\n",
    "print(Power)"
   ]
  }
 ],
 "metadata": {
  "kernelspec": {
   "display_name": "qda",
   "language": "python",
   "name": "python3"
  },
  "language_info": {
   "codemirror_mode": {
    "name": "ipython",
    "version": 3
   },
   "file_extension": ".py",
   "mimetype": "text/x-python",
   "name": "python",
   "nbconvert_exporter": "python",
   "pygments_lexer": "ipython3",
   "version": "3.7.16"
  }
 },
 "nbformat": 4,
 "nbformat_minor": 2
}
